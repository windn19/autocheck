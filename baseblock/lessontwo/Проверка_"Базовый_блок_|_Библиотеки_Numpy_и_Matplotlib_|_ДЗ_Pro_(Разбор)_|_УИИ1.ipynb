{
  "nbformat": 4,
  "nbformat_minor": 0,
  "metadata": {
    "colab": {
      "name": "Проверка \"Базовый блок | Библиотеки Numpy и Matplotlib | ДЗ Pro (Разбор) | УИИ1",
      "provenance": [],
      "collapsed_sections": [],
      "include_colab_link": true
    },
    "kernelspec": {
      "display_name": "Python 3",
      "name": "python3"
    }
  },
  "cells": [
    {
      "cell_type": "markdown",
      "metadata": {
        "id": "view-in-github",
        "colab_type": "text"
      },
      "source": [
        "<a href=\"https://colab.research.google.com/github/windn19/autocheck/blob/main/baseblock/lessontwo/%D0%9F%D1%80%D0%BE%D0%B2%D0%B5%D1%80%D0%BA%D0%B0_%22%D0%91%D0%B0%D0%B7%D0%BE%D0%B2%D1%8B%D0%B9_%D0%B1%D0%BB%D0%BE%D0%BA_%7C_%D0%91%D0%B8%D0%B1%D0%BB%D0%B8%D0%BE%D1%82%D0%B5%D0%BA%D0%B8_Numpy_%D0%B8_Matplotlib_%7C_%D0%94%D0%97_Pro_(%D0%A0%D0%B0%D0%B7%D0%B1%D0%BE%D1%80)_%7C_%D0%A3%D0%98%D0%981.ipynb\" target=\"_parent\"><img src=\"https://colab.research.google.com/assets/colab-badge.svg\" alt=\"Open In Colab\"/></a>"
      ]
    },
    {
      "cell_type": "markdown",
      "metadata": {
        "id": "S2aCI7mtCXaa"
      },
      "source": [
        "#Домашнее задание"
      ]
    },
    {
      "cell_type": "markdown",
      "metadata": {
        "id": "39zJTivLrXFV"
      },
      "source": [
        "### Задача 1"
      ]
    },
    {
      "cell_type": "markdown",
      "metadata": {
        "id": "65uYFAES2spD"
      },
      "source": [
        "Создайте двумерный массив с именем **rnd_array** размерностью **3** на **4**, состоящий из случайных целых чисел от **15** до **37**. \n",
        "\n",
        "Требуется создать новый массив **str_array** той же размерности (3,4), значения которого будут зависеть от значений исходного массива и могут принимать одно из трех возможных значений:\n",
        "\n",
        "* **\"small\"**, для значений исходного массива меньше **20**;\n",
        "* **\"medium\"**, для значений исходного массива в промежутке **[20, 30]**;\n",
        "* **\"large\"**, для значений исходного массива  больше **30**.\n",
        "\n",
        "Пример:\n",
        "\n",
        "*Исходный массив*:\n",
        "\n",
        "        [[18 34 27 36]\n",
        "         [16 25 24 29]\n",
        "         [16 18 36 16]]\n",
        "\n",
        "Реузльтирующий массив должен выглядеть следующим образом:\n",
        "\n",
        "        [['small' 'large' 'medium' 'large']\n",
        "         ['small' 'medium' 'medium' 'medium']\n",
        "         ['small' 'small' 'large' 'small']]"
      ]
    },
    {
      "cell_type": "markdown",
      "metadata": {
        "id": "z1ueZRRtL12E"
      },
      "source": [
        "При решении задания вам может пригодиться метод numpy.full()\n",
        "\n",
        "---\n",
        "Дополнительная информация ([База знаний УИИ - «**Метод numpy.full()**»](https://colab.research.google.com/drive/1oa4X8o27GkeurzSFVO9x0SoIp_gt6hFd?usp=sharing))\n",
        "\n",
        "---\n"
      ]
    },
    {
      "cell_type": "code",
      "metadata": {
        "id": "XKvj17Xp-Td8"
      },
      "source": [
        "import numpy as np"
      ],
      "execution_count": 1,
      "outputs": []
    },
    {
      "cell_type": "code",
      "metadata": {
        "id": "_deYD3SQ2qIU",
        "colab": {
          "base_uri": "https://localhost:8080/"
        },
        "outputId": "83251e11-ab01-46f8-fa02-95873584682c"
      },
      "source": [
        "rnd_array = np.random.randint(15, 38, (3,4))                  # Создание массива из случайных целых чисел от 15 до 37 размерностью 2 на 3 на 4\n",
        "print(rnd_array)                                              # Отображение созданного массива\n",
        "print()"
      ],
      "execution_count": null,
      "outputs": [
        {
          "output_type": "stream",
          "name": "stdout",
          "text": [
            "[[20 17 29 29]\n",
            " [22 19 25 23]\n",
            " [26 17 36 18]]\n",
            "\n"
          ]
        }
      ]
    },
    {
      "cell_type": "code",
      "metadata": {
        "colab": {
          "base_uri": "https://localhost:8080/"
        },
        "id": "RnA9mU76liOo",
        "outputId": "0fdd5b9e-3ae2-4d8d-92c8-d37a2dec5432"
      },
      "source": [
        "new_array = np.full((3,4), 'medium', dtype='<U8')             # Создание массива размерности 2 на 3 на 4, заполненного словом 'medium'\n",
        "new_array[rnd_array < 20] = 'small'                           # Изменение значений в массиве на 'small' для элементов, меньших 20\n",
        "new_array[rnd_array > 30] = 'large'                           # Изменение значений в массиве на 'large' для элементов, больших 30\n",
        "print(new_array)                                              # Вывод сформированного массива"
      ],
      "execution_count": null,
      "outputs": [
        {
          "output_type": "stream",
          "name": "stdout",
          "text": [
            "[['medium' 'small' 'medium' 'medium']\n",
            " ['medium' 'small' 'medium' 'medium']\n",
            " ['medium' 'small' 'large' 'small']]\n"
          ]
        }
      ]
    },
    {
      "cell_type": "code",
      "metadata": {
        "colab": {
          "base_uri": "https://localhost:8080/"
        },
        "id": "dh_FJrUV7rMe",
        "outputId": "401c1857-b40e-4ae3-e68b-789667473a46"
      },
      "source": [
        "rnd_array = np.random.randint(15, 37, size=(3, 4))\n",
        "print(rnd_array)\n",
        "str_array = np.select([rnd_array < 20, rnd_array > 30], ['small', 'large'], default='medium')\n",
        "print(str_array)"
      ],
      "execution_count": 2,
      "outputs": [
        {
          "output_type": "stream",
          "name": "stdout",
          "text": [
            "[[23 33 19 32]\n",
            " [32 27 24 26]\n",
            " [15 17 30 33]]\n",
            "[['medium' 'large' 'small' 'large']\n",
            " ['large' 'medium' 'medium' 'medium']\n",
            " ['small' 'small' 'medium' 'large']]\n"
          ]
        }
      ]
    },
    {
      "cell_type": "code",
      "metadata": {
        "id": "1uquHctpvGLS",
        "colab": {
          "base_uri": "https://localhost:8080/"
        },
        "outputId": "e64b3e71-aa4b-4410-ea78-76190095543f"
      },
      "source": [
        "rnd_array = np.random.uniform(15, 38, size=(3, 4))\n",
        "print(rnd_array)\n",
        "str_array = np.select([rnd_array < 20, rnd_array > 30], ['small', 'medium'], default='large')\n",
        "print(str_array)"
      ],
      "execution_count": null,
      "outputs": [
        {
          "output_type": "stream",
          "name": "stdout",
          "text": [
            "[[18.79758614 19.29268277 17.65622085 21.16032799]\n",
            " [32.51356299 31.3012774  18.06298342 21.75900576]\n",
            " [30.21640679 18.21841836 16.26079413 16.12066805]]\n",
            "[['small' 'small' 'small' 'large']\n",
            " ['medium' 'medium' 'small' 'large']\n",
            " ['medium' 'small' 'small' 'small']]\n"
          ]
        }
      ]
    },
    {
      "cell_type": "code",
      "metadata": {
        "colab": {
          "base_uri": "https://localhost:8080/"
        },
        "id": "dLcoHzVV8bQU",
        "outputId": "e8bb6fb0-da83-4bff-94dd-452939b3dfcc"
      },
      "source": [
        "rnd_array = np.random.uniform(15, 38, size=(3, 4))\n",
        "print(rnd_array)\n",
        "sum = np.select([rnd_array < 20, rnd_array > 30], ['small', 'medium'], default='large')\n",
        "print(str_array)"
      ],
      "execution_count": null,
      "outputs": [
        {
          "output_type": "stream",
          "name": "stdout",
          "text": [
            "[[24.842384   19.4010869  16.69856655 37.75629835]\n",
            " [34.70827189 37.44054156 21.42445869 17.32866095]\n",
            " [21.05170876 30.23758846 22.64233586 16.47845092]]\n",
            "[['large' 'small' 'medium' 'medium']\n",
            " ['medium' 'large' 'small' 'large']\n",
            " ['medium' 'large' 'large' 'small']]\n"
          ]
        }
      ]
    },
    {
      "cell_type": "code",
      "metadata": {
        "colab": {
          "base_uri": "https://localhost:8080/"
        },
        "id": "iPhvN0kSovbL",
        "outputId": "65a1e7de-a392-46bd-a8da-d164c137247a"
      },
      "source": [
        "rnd_array = np.random.randint(15, 38, size=(3, 4))\n",
        "print(rnd_array)\n",
        "str_array = np.select([rnd_array < 20, rnd_array > 30], ['small', 'large'], default='medium')\n",
        "print(str_array)"
      ],
      "execution_count": null,
      "outputs": [
        {
          "output_type": "stream",
          "name": "stdout",
          "text": [
            "[[26 31 29 27]\n",
            " [35 26 24 31]\n",
            " [18 25 37 22]]\n",
            "[['medium' 'large' 'medium' 'medium']\n",
            " ['large' 'medium' 'medium' 'large']\n",
            " ['small' 'medium' 'large' 'medium']]\n"
          ]
        }
      ]
    },
    {
      "cell_type": "code",
      "metadata": {
        "colab": {
          "base_uri": "https://localhost:8080/",
          "height": 129
        },
        "id": "hsUoBbJ4o4Zm",
        "outputId": "a8d9b4ec-b63b-4eb1-bb33-fdfd6b2be085"
      },
      "source": [
        "rnd_array = np.random.uniform(15, 38, size=(3, 4)\n",
        "print(rnd_array)\n",
        "str_array = np.select([rnd_array < 20, rnd_array > 30], ['small', 'medium'], default='large')\n",
        "print(str_array)"
      ],
      "execution_count": null,
      "outputs": [
        {
          "output_type": "error",
          "ename": "SyntaxError",
          "evalue": "ignored",
          "traceback": [
            "\u001b[0;36m  File \u001b[0;32m\"<ipython-input-5-500fd66b476b>\"\u001b[0;36m, line \u001b[0;32m2\u001b[0m\n\u001b[0;31m    print(rnd_array)\u001b[0m\n\u001b[0m        ^\u001b[0m\n\u001b[0;31mSyntaxError\u001b[0m\u001b[0;31m:\u001b[0m invalid syntax\n"
          ]
        }
      ]
    },
    {
      "cell_type": "markdown",
      "metadata": {
        "id": "dT9n_KJtpS-N"
      },
      "source": [
        "### Задача 2"
      ]
    },
    {
      "cell_type": "markdown",
      "metadata": {
        "id": "PgfD2QlFXi2a"
      },
      "source": [
        "Создайте функцию first_monday() для вывода даты первого понедельника в произвольный год. На вход функция принимает год в виде строки, на возвращать дату в формате np.datetime64[D]\n",
        "\n",
        "Пример: first_monday('2015')\n",
        "\n",
        "вывод: 2015-01-05\n",
        "\n"
      ]
    },
    {
      "cell_type": "markdown",
      "metadata": {
        "id": "0eUj6Rt72Oo-"
      },
      "source": [
        "При решении задания вам может пригодиться метод `np.busday_offset()`\n",
        "\n",
        "---\n",
        "Дополнительная информация ([База знаний УИИ - «**Функции DateTime в Numpy**»](https://colab.research.google.com/drive/1gSg4eZkpGwP0Zs5VGhl8uMhoo2Gmsil6?usp=sharing))\n",
        "\n",
        "---\n",
        "\n",
        "\n",
        "\n",
        "\n",
        "\n"
      ]
    },
    {
      "cell_type": "code",
      "metadata": {
        "colab": {
          "base_uri": "https://localhost:8080/"
        },
        "id": "gf4OCR-Tu2yR",
        "outputId": "ed8d0ac8-8052-4acf-e340-08b901fb8ff2"
      },
      "source": [
        "print(\"Первый понедельник в 2015 года:\")\n",
        "print(np.busday_offset('2015', 2, roll='forward', weekmask='Mon'))"
      ],
      "execution_count": null,
      "outputs": [
        {
          "output_type": "stream",
          "text": [
            "Первый понедельник в 2015 года:\n",
            "2015-01-05\n"
          ],
          "name": "stdout"
        }
      ]
    },
    {
      "cell_type": "code",
      "metadata": {
        "colab": {
          "base_uri": "https://localhost:8080/"
        },
        "id": "a21GvNtciwiM",
        "outputId": "4ed48c15-390a-4441-eebc-fdee965c0b3c"
      },
      "source": [
        "def first_monday(year):\n",
        "  return np.busday_offset(year, 0, roll='forward', weekmask='Mon')\n",
        "\n",
        "print(first_monday('2015'))"
      ],
      "execution_count": 3,
      "outputs": [
        {
          "output_type": "stream",
          "name": "stdout",
          "text": [
            "2015-01-05\n"
          ]
        }
      ]
    },
    {
      "cell_type": "markdown",
      "metadata": {
        "id": "BDz6HXvPxsYs"
      },
      "source": [
        "### Задача 3"
      ]
    },
    {
      "cell_type": "markdown",
      "metadata": {
        "id": "5P_jy7L4V6I_"
      },
      "source": [
        "Создайте функцию **sort_bubble** для реализации сортировки массива пузыриком\n",
        "\n",
        "На вход она будет принимать неотсортированный массив, а возвращать отсортированный.\n",
        "Таким образом, при вызове **sort_bubble([71, 50, 21, 1, 81, 82, 4, 67, 76, 36])**\n",
        "на выходе нужно получить [1, 4, 21, 36, 50, 67, 71, 76, 81, 82]\n",
        "\n",
        "Использование стандартных методов, таких как sort(), sorted() - запрещено.\n",
        "\n",
        "**Сортировка пузырьком** - это метод сортировки массивов и списков путем последовательного сравнения и обмена соседних элементов, если предшествующий оказывается больше последующего. В процессе выполнения данного алгоритма элементы с большими значениями оказываются в конце списка, а элементы с меньшими значениями постепенно перемещаются по направлению к началу списка. Образно говоря, тяжелые элементы падают на дно, а легкие медленно всплывают подобно пузырькам воздуха.\n"
      ]
    },
    {
      "cell_type": "code",
      "metadata": {
        "colab": {
          "base_uri": "https://localhost:8080/"
        },
        "id": "O6pOvXQkV3_d",
        "outputId": "641ee058-3beb-4ced-9086-bef314bd4225"
      },
      "source": [
        "def sort_bubble(arr):\n",
        "  for i in range(len(arr)):\n",
        "    for j in range(len(arr) - i -1):\n",
        "      if arr[j] > arr[j+1]:\n",
        "        arr[j], arr[j+1] = arr[j+1], arr[j]\n",
        "  return arr\n",
        "\n",
        "a = np.random.randint(0, 99, size=10).tolist()\n",
        "sort_bubble(a)"
      ],
      "execution_count": 4,
      "outputs": [
        {
          "output_type": "execute_result",
          "data": {
            "text/plain": [
              "[10, 11, 31, 38, 38, 40, 57, 63, 80, 92]"
            ]
          },
          "metadata": {},
          "execution_count": 4
        }
      ]
    },
    {
      "cell_type": "code",
      "metadata": {
        "colab": {
          "base_uri": "https://localhost:8080/"
        },
        "id": "HiC_xnDbu3vZ",
        "outputId": "a39a2be6-d75d-4112-e92c-b112a5de66a1"
      },
      "source": [
        "N = 10                                          # Количество элементов в массиве\n",
        "a = []                                          # Создание пустого массива\n",
        "for i in range(N):                              # Перебор элементов массива\n",
        "    a.append(random.randint(1, 99))             # Добавление элемента от 1 до 99 в массив\n",
        "print(\"Сгенерированный массив: \", a)            # Вывод получившегося массива\n",
        "for i in range(N-1):                            # Перебор пар элементов\n",
        "    for j in range(N-i-1):\n",
        "        if a[j] > a[j+1]:                       # Если предшествующий больше текущего элемента\n",
        "            a[j], a[j+1] = a[j+1], a[j]         # Перестановка мест пары элементов\n",
        " \n",
        "print(\"Отсортированный массив: \", a)"
      ],
      "execution_count": null,
      "outputs": [
        {
          "output_type": "stream",
          "name": "stdout",
          "text": [
            "Сгенерированный массив:  [62, 80, 46, 46, 39, 79, 86, 7, 82, 78]\n",
            "Отсортированный массив:  [7, 39, 46, 46, 62, 78, 79, 80, 82, 86]\n"
          ]
        }
      ]
    },
    {
      "cell_type": "markdown",
      "metadata": {
        "id": "9sr2U6oz1Iqu"
      },
      "source": [
        "### Задача 4"
      ]
    },
    {
      "cell_type": "markdown",
      "metadata": {
        "id": "HbogTJfAEx9x"
      },
      "source": [
        "Определите два numpy массива **x** и **у**, содержащих в себе одинаковое количество случайно распреденных точек. Выведите график их рассеивания по осям Х и Y\n",
        "\n",
        "---\n",
        "Ваш результат может выглядеть так:\n",
        "\n",
        "![image.png](data:image/png;base64,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)"
      ]
    },
    {
      "cell_type": "markdown",
      "metadata": {
        "id": "VgHwLzAFAgBJ"
      },
      "source": [
        "При решении задания вам может пригодиться метод `plt.scatter()`\n",
        "\n",
        "---\n",
        "Дополнительная информация ([База знаний УИИ - «**Scatter - график разброса**»](https://colab.research.google.com/drive/1DvReBj0GxdwVaQ72WUleiIwQGer1-vfn?usp=sharing))\n",
        "\n",
        "---\n",
        "\n",
        "\n",
        "\n",
        "\n",
        "\n"
      ]
    },
    {
      "cell_type": "code",
      "metadata": {
        "colab": {
          "base_uri": "https://localhost:8080/",
          "height": 295
        },
        "id": "cEFm8mmku5Mx",
        "outputId": "cee20132-aca2-4aa2-e27b-db8fefb06b88"
      },
      "source": [
        "X = random.sample(range(1000), 200)                 # Создание двух векторов случайных чисел\n",
        "Y = random.sample(range(1000), 200)\n",
        "plt.scatter(X, Y, color='r')                        # Отображение графика рассеяния \n",
        "plt.xlabel(\"X\")                                     # Подпись оси Х\n",
        "plt.ylabel(\"Y\")                                     # Подпись оси Y\n",
        "plt.title(\"График рассеяния\")                       # Заголовок графика\n",
        "plt.show()"
      ],
      "execution_count": null,
      "outputs": [
        {
          "output_type": "display_data",
          "data": {
            "image/png": "[encoded data removed]",
            "text/plain": [
              "<Figure size 432x288 with 1 Axes>"
            ]
          },
          "metadata": {
            "tags": [],
            "needs_background": "light"
          }
        }
      ]
    },
    {
      "cell_type": "code",
      "metadata": {
        "colab": {
          "base_uri": "https://localhost:8080/",
          "height": 265
        },
        "id": "B6SFj3W6DUGb",
        "outputId": "a7d64541-ca5e-4c4b-a646-00e052ac936a"
      },
      "source": [
        "import numpy as np\n",
        "import matplotlib.pyplot as plt\n",
        "\n",
        "x = np.random.randint(0, 1000, size=200)\n",
        "y = np.random.randint(0, 1000, size=200)\n",
        "plt.scatter(x, y, c='g')\n",
        "plt.show()"
      ],
      "execution_count": 5,
      "outputs": [
        {
          "output_type": "display_data",
          "data": {
            "image/png": "[encoded data removed]",
            "text/plain": [
              "<Figure size 432x288 with 1 Axes>"
            ]
          },
          "metadata": {
            "needs_background": "light"
          }
        }
      ]
    },
    {
      "cell_type": "markdown",
      "metadata": {
        "id": "1GnNaeQ4zwt1"
      },
      "source": [
        "### Задача 5"
      ]
    },
    {
      "cell_type": "markdown",
      "metadata": {
        "id": "YhZ-TxC-zzfx"
      },
      "source": [
        "Даны два списка `val_x` и `val_y`\n",
        "        \n",
        "        val_x = [-7, -5, 7, 9, 10, 10, 9, -7, 0, 5, 7, 4, 0, 6, 8, 4, 0]\n",
        "        val_y = [0, 2, 2, 5, 5, 1, 0, 0, 2, 6, 6, 2, 1, -3, -3, 1, 1]\n",
        "\n",
        "Постройте два графика: `plot(val_x, val_y)` и `scatter(val_x, val_y)` на разных координатных плоскостях. \n",
        "\n",
        "Постройте еще один график `plot(val_x, val_y)` размером **(6, 3)** со следущими элементами:\n",
        "- линиями сетки;\n",
        "- подписями осей х и y;\n",
        "- названием графика \"Самолет\"."
      ]
    },
    {
      "cell_type": "code",
      "metadata": {
        "id": "U9PKPvVuM2Wx"
      },
      "source": [
        "# Данные для построения графика\n",
        "val_x = [-7, -5, 7, 9, 10, 10, 9, -7, 0, 5, 7, 4, 0, 6, 8, 4, 0]\n",
        "val_y = [0, 2, 2, 5, 5, 1, 0, 0, 2, 6, 6, 2, 1, -3, -3, 1, 1]"
      ],
      "execution_count": 6,
      "outputs": []
    },
    {
      "cell_type": "code",
      "metadata": {
        "colab": {
          "base_uri": "https://localhost:8080/",
          "height": 265
        },
        "id": "-Nk8QnQP1SaU",
        "outputId": "4c2c162f-6808-4fc4-f153-148d996965ff"
      },
      "source": [
        "# Импорт библиотеки для работы с графиками\n",
        "import matplotlib.pyplot as plt\n",
        "\n",
        "# Построение графика plot\n",
        "plt.plot(val_x, val_y)\n",
        "plt.show()"
      ],
      "execution_count": 7,
      "outputs": [
        {
          "output_type": "display_data",
          "data": {
            "image/png": "[encoded data removed]",
            "text/plain": [
              "<Figure size 432x288 with 1 Axes>"
            ]
          },
          "metadata": {
            "needs_background": "light"
          }
        }
      ]
    },
    {
      "cell_type": "code",
      "metadata": {
        "colab": {
          "base_uri": "https://localhost:8080/",
          "height": 265
        },
        "id": "hvWo11M3W4qF",
        "outputId": "3c01f884-96a8-4bd4-897a-fe499ce54407"
      },
      "source": [
        "# Построение графика scatter\n",
        "plt.scatter(val_x, val_y)\n",
        "plt.show()"
      ],
      "execution_count": 8,
      "outputs": [
        {
          "output_type": "display_data",
          "data": {
            "image/png": "[encoded data removed]",
            "text/plain": [
              "<Figure size 432x288 with 1 Axes>"
            ]
          },
          "metadata": {
            "needs_background": "light"
          }
        }
      ]
    },
    {
      "cell_type": "code",
      "metadata": {
        "colab": {
          "base_uri": "https://localhost:8080/",
          "height": 241
        },
        "id": "hEqU-Bh6W-Ql",
        "outputId": "2bd8f182-a65a-4d9c-8661-56b74cb53c47"
      },
      "source": [
        "# Назначение размера полотна графика\n",
        "plt.subplots(figsize=(6, 3))\n",
        "\n",
        "# Построение графика plot\n",
        "plt.plot(val_x, val_y)\n",
        "\n",
        "# Назначение названия графика \n",
        "plt.title('Самолет')\n",
        "\n",
        "# Подписи осей\n",
        "plt.xlabel('ось х')\n",
        "plt.ylabel('ось y')\n",
        "\n",
        "# Добавление линий сетки\n",
        "plt.grid()\n",
        "\n",
        "plt.show()"
      ],
      "execution_count": 9,
      "outputs": [
        {
          "output_type": "display_data",
          "data": {
            "image/png": "[encoded data removed]",
            "text/plain": [
              "<Figure size 432x216 with 1 Axes>"
            ]
          },
          "metadata": {
            "needs_background": "light"
          }
        }
      ]
    },
    {
      "cell_type": "markdown",
      "metadata": {
        "id": "Hkc-ofI72Fgo"
      },
      "source": [
        "# **Проверка ДЗ**"
      ]
    },
    {
      "cell_type": "markdown",
      "metadata": {
        "id": "XWY8LqPVGm5g"
      },
      "source": [
        "1. В ячейке ниже необходимо заменить `from terra_autocheck.baseblock.lessonone import light` на модуль Вашего ДЗ. Например для уровня ПРО занятия \"Введение в НС\", подключение библиотеки будет выглядеть следующим образом:\n",
        "\n",
        "        from terra_autocheck.baseblock.lessonthree import pro\n",
        "\n"
      ]
    },
    {
      "cell_type": "markdown",
      "metadata": {
        "id": "U8v3w5UlIPJG"
      },
      "source": [
        "2. Вызвать функцию автопроверки:\n",
        "\n",
        "        Autocheck.Start(1739, globals())\n",
        "\n",
        "1739 - это ID вашего ДЗ. Необходимо заменить на ID вашей домашки (можно найти в скрипте репозитория вашего ДЗ)"
      ]
    },
    {
      "cell_type": "code",
      "metadata": {
        "id": "dNRI9PunKDQO",
        "colab": {
          "base_uri": "https://localhost:8080/",
          "height": 1000
        },
        "cellView": "form",
        "outputId": "5789b4a9-f8b6-4ad2-e34a-f430080ab35d"
      },
      "source": [
        "#@title Запустите ячейку для начала проверки <br> <h6>\n",
        "!rm -rf terra_autocheck\n",
        "!git clone -q https://github.com/gitterra/terra_autocheck.git\n",
        "from autocheck import Autocheck\n",
        "from autocheck.baseblock.lessontwo import pro\n",
        "\n",
        "Autocheck.Start(1744, globals())"
      ],
      "execution_count": 10,
      "outputs": [
        {
          "output_type": "stream",
          "name": "stderr",
          "text": [
            "Задание : 100%|\u001b[32m██████████\u001b[0m  5/5"
          ]
        },
        {
          "output_type": "stream",
          "name": "stdout",
          "text": [
            "\n",
            "\n",
            " Задание 1 выполнено\n",
            "\n",
            "\n",
            " Задание 2 выполнено\n",
            "\n",
            "\n",
            " Задание 3 выполнено\n",
            "\n",
            "\n",
            " Задание 4 выполнено\n",
            "\n",
            "\n",
            " Задание 5 выполнено\n",
            "\n",
            "\n",
            "ДЗ выполнено\n"
          ]
        },
        {
          "output_type": "stream",
          "name": "stderr",
          "text": [
            "\n"
          ]
        }
      ]
    }
  ]
}